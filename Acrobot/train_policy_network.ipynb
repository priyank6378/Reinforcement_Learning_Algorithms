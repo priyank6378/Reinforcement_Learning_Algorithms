{
 "cells": [
  {
   "cell_type": "code",
   "execution_count": 6,
   "metadata": {},
   "outputs": [],
   "source": [
    "import tensorflow as tf\n",
    "import numpy as np\n",
    "import random\n",
    "\n",
    "\n",
    "class ExperienceReplay:\n",
    "    '''\n",
    "    During gameplay all the states, actions, rewards, and new states are stored\n",
    "    '''\n",
    "    def __init__(self, max_memory=100, discount=.9):\n",
    "        self.max_memory = max_memory\n",
    "        self.memory = list()\n",
    "        self.discount = discount\n",
    "\n",
    "    def add(self, s1, a, r, s2, done):\n",
    "        '''\n",
    "        Add the state, action, reward, and new state to the memory\n",
    "        return 1 if full otherwise 0\n",
    "        '''\n",
    "        self.memory.append([s1, a, r, s2, done])\n",
    "        if len(self.memory) > self.max_memory:\n",
    "            return 1\n",
    "        return 0\n",
    "    \n",
    "    def sample(self, n=90):\n",
    "        '''\n",
    "        Randomly sample a batch of size n from memory\n",
    "        '''\n",
    "        n = min(n, len(self.memory))\n",
    "        # random.shuffle(self.memory)\n",
    "        ret = self.memory[:n]\n",
    "        self.memory = self.memory[n:]\n",
    "        return ret\n",
    "    \n",
    "    def __len__(self):\n",
    "        return len(self.memory)\n",
    "\n",
    "\n",
    "class PolicyNetwork:\n",
    "    def __init__(self, \n",
    "                 model, \n",
    "                #  target_model, \n",
    "                 env, \n",
    "                 exp_replay, \n",
    "                 step_size=0.9,  \n",
    "                 gamma=0.99,  \n",
    "                 batch_size=90, \n",
    "                 frequency=10, \n",
    "                 tau=1, \n",
    "                 epsilon=0.2, \n",
    "                 max_time=200,\n",
    "                 show_video=False,\n",
    "                 loss_fn = tf.keras.losses.MSE,\n",
    "                 lr = 0.001):\n",
    "        \n",
    "        self.model = model\n",
    "        # self.target_model = target_model\n",
    "        self.env = env\n",
    "        self.exp_replay = exp_replay\n",
    "        self.batch_size = batch_size\n",
    "        self.tau = tau\n",
    "        self.epsilon = epsilon\n",
    "        self.gamma = gamma\n",
    "        self.frequency = frequency\n",
    "        self.step_size = step_size\n",
    "        self.max_time = max_time\n",
    "        self.priority_level = 10\n",
    "        self.show_video = show_video\n",
    "        self.loss_fn = loss_fn\n",
    "        self.lr = lr\n",
    "        \n",
    "        self.optimizer = tf.keras.optimizers.Adam(learning_rate=self.lr)\n",
    "\n",
    "        self.history = []\n",
    "\n",
    "\n",
    "    def discount_reward(self, rewards):\n",
    "        discounted_rewards = []\n",
    "        cumulative_rewards = 0\n",
    "        for reward in rewards[::-1]:\n",
    "            cumulative_rewards = reward + self.gamma * cumulative_rewards\n",
    "            discounted_rewards.append(cumulative_rewards)\n",
    "        return np.array(discounted_rewards[::-1])\n",
    "    \n",
    "    def train(self, epochs=1000):\n",
    "        for epoch in range(epochs):\n",
    "            state = self.env.reset()[0]\n",
    "            done = False\n",
    "            t = 0\n",
    "            reward = 0\n",
    "            while not done and t<self.max_time:\n",
    "                t += 1\n",
    "                action_probs = self.model(np.array([state]))[0]\n",
    "                action = np.random.choice(np.arange(self.env.action_space.n), p=np.array(action_probs))\n",
    "                next_state, r, done, truncated, info = self.env.step(action)\n",
    "                # describing reward \n",
    "                if r == -1:\n",
    "                    reward += r\n",
    "                else : \n",
    "                    reward += 500000\n",
    "                self.exp_replay.add(state, action, reward, next_state, done)\n",
    "                state = next_state\n",
    "\n",
    "            self.history.append(t)\n",
    "            if epoch % 100 == 0:\n",
    "                print(f'Epoch: {epoch}, Time: {t}')\n",
    "            \n",
    "            if len(self.exp_replay) > self.batch_size:\n",
    "                train_batch = self.exp_replay.sample(self.batch_size)\n",
    "                s1_batch = np.array([x[0] for x in train_batch])\n",
    "                a_batch = np.array([x[1] for x in train_batch])   \n",
    "                r_batch = np.array([x[2] for x in train_batch])\n",
    "                # s2_batch = np.array([x[3] for x in train_batch])\n",
    "                # done_batch = np.array([x[4] for x in train_batch])\n",
    "\n",
    "                discounted_rewards = self.discount_reward(r_batch)\n",
    "\n",
    "                with tf.GradientTape() as tape:\n",
    "                    pred_batch = self.model(s1_batch, training=True)\n",
    "                    prob_batch = tf.gather_nd(pred_batch , indices=[[i,j] for i,j in enumerate(a_batch)])\n",
    "                    loss = -tf.reduce_sum(discounted_rewards * tf.math.log(prob_batch))\n",
    "\n",
    "                grads = tape.gradient(loss, self.model.trainable_variables)\n",
    "                self.optimizer.apply_gradients(zip(grads, self.model.trainable_variables))\n",
    "\n",
    "\n",
    "                "
   ]
  },
  {
   "cell_type": "code",
   "execution_count": 13,
   "metadata": {},
   "outputs": [],
   "source": [
    "import gymnasium as gym\n",
    "import matplotlib.pyplot as plt\n",
    "from tensorflow.keras.layers import Dense, Input\n",
    "from tensorflow.keras.models import Model\n",
    "\n",
    "env = gym.make('Acrobot-v1')\n",
    "\n",
    "inp = Input(shape=(6,))\n",
    "x = Dense(200, activation='relu')(inp)\n",
    "x = Dense(200, activation='relu')(x)\n",
    "# x = Dense(200, activation='relu')(x)\n",
    "out = Dense(3, activation='softmax')(x)\n",
    "model = Model(inp, out)\n",
    "model.compile(optimizer=tf.keras.optimizers.Adam(0.001))\n",
    "\n",
    "exp_replay = ExperienceReplay(max_memory=300)\n",
    "# traget_net = TargetNetwork(model)\n",
    "agent = PolicyNetwork(model, env, exp_replay, batch_size=100, max_time=200, gamma=0.99)\n"
   ]
  },
  {
   "cell_type": "code",
   "execution_count": 23,
   "metadata": {},
   "outputs": [
    {
     "name": "stdout",
     "output_type": "stream",
     "text": [
      "Epoch: 0, Time: 80\n"
     ]
    }
   ],
   "source": [
    "agent.train(100)"
   ]
  },
  {
   "cell_type": "code",
   "execution_count": 25,
   "metadata": {},
   "outputs": [
    {
     "data": {
      "image/png": "[encoded data removed]",
      "text/plain": [
       "<Figure size 640x480 with 1 Axes>"
      ]
     },
     "metadata": {},
     "output_type": "display_data"
    }
   ],
   "source": [
    "avg_sum = []\n",
    "for i in range(len(agent.history)-10):\n",
    "    avg_sum.append(np.mean(agent.history[i:i+10]))\n",
    "plt.plot(avg_sum)\n",
    "plt.show()"
   ]
  },
  {
   "cell_type": "code",
   "execution_count": 18,
   "metadata": {},
   "outputs": [
    {
     "name": "stdout",
     "output_type": "stream",
     "text": [
      "Keras weights file (<HDF5 file \"variables.h5\" (mode r+)>) saving:\n",
      "...layers\n",
      "......dense\n",
      ".........vars\n",
      "............0\n",
      "............1\n",
      "......dense_1\n",
      ".........vars\n",
      "............0\n",
      "............1\n",
      "......dense_2\n",
      ".........vars\n",
      "............0\n",
      "............1\n",
      "......input_layer\n",
      ".........vars\n",
      "...optimizer\n",
      "......vars\n",
      ".........0\n",
      "...vars\n",
      "Keras model archive saving:\n",
      "File Name                                             Modified             Size\n",
      "variables.h5                                   2023-06-23 23:14:58       184136\n",
      "metadata.json                                  2023-06-23 23:14:58           64\n",
      "config.json                                    2023-06-23 23:14:58         2512\n"
     ]
    }
   ],
   "source": [
    "import pickle \n",
    "with open('acrobot_policy_network.pkl', 'wb') as f:\n",
    "    pickle.dump(agent.model, f)\n"
   ]
  },
  {
   "cell_type": "code",
   "execution_count": null,
   "metadata": {},
   "outputs": [],
   "source": []
  }
 ],
 "metadata": {
  "kernelspec": {
   "display_name": "ai",
   "language": "python",
   "name": "python3"
  },
  "language_info": {
   "codemirror_mode": {
    "name": "ipython",
    "version": 3
   },
   "file_extension": ".py",
   "mimetype": "text/x-python",
   "name": "python",
   "nbconvert_exporter": "python",
   "pygments_lexer": "ipython3",
   "version": "3.9.16"
  },
  "orig_nbformat": 4
 },
 "nbformat": 4,
 "nbformat_minor": 2
}
